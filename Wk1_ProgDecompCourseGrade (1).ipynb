{
 "cells": [
  {
   "cell_type": "code",
   "execution_count": 16,
   "metadata": {},
   "outputs": [
    {
     "data": {
      "text/plain": [
       "'C:\\\\Users\\\\bolzj'"
      ]
     },
     "execution_count": 16,
     "metadata": {},
     "output_type": "execute_result"
    }
   ],
   "source": [
    "import os                          #checking which directory to put sample student's grade file in\n",
    "os.getcwd()"
   ]
  },
  {
   "cell_type": "code",
   "execution_count": 17,
   "metadata": {},
   "outputs": [],
   "source": [
    "import pandas as pd                #import pandas library"
   ]
  },
  {
   "cell_type": "markdown",
   "metadata": {},
   "source": [
    "# Grades.xlsx\n",
    "## In Excel, I created a spreadsheet for a sample student.\n",
    "* Column 1 was for Attendance:  P or A was decided 15 times.\n",
    "* Column 2 was for Projects:  I entered a likely grade between 0 and 100.\n",
    "* Column 3 was for Assignments:  I let excel pick a random number between 75 and 100 for each row."
   ]
  },
  {
   "cell_type": "code",
   "execution_count": 18,
   "metadata": {},
   "outputs": [
    {
     "data": {
      "text/html": [
       "<div>\n",
       "<style scoped>\n",
       "    .dataframe tbody tr th:only-of-type {\n",
       "        vertical-align: middle;\n",
       "    }\n",
       "\n",
       "    .dataframe tbody tr th {\n",
       "        vertical-align: top;\n",
       "    }\n",
       "\n",
       "    .dataframe thead th {\n",
       "        text-align: right;\n",
       "    }\n",
       "</style>\n",
       "<table border=\"1\" class=\"dataframe\">\n",
       "  <thead>\n",
       "    <tr style=\"text-align: right;\">\n",
       "      <th></th>\n",
       "      <th>Attendance</th>\n",
       "      <th>Projects</th>\n",
       "      <th>Assignments</th>\n",
       "    </tr>\n",
       "  </thead>\n",
       "  <tbody>\n",
       "    <tr>\n",
       "      <th>0</th>\n",
       "      <td>P</td>\n",
       "      <td>90.0</td>\n",
       "      <td>81</td>\n",
       "    </tr>\n",
       "    <tr>\n",
       "      <th>1</th>\n",
       "      <td>P</td>\n",
       "      <td>92.0</td>\n",
       "      <td>90</td>\n",
       "    </tr>\n",
       "    <tr>\n",
       "      <th>2</th>\n",
       "      <td>P</td>\n",
       "      <td>89.0</td>\n",
       "      <td>100</td>\n",
       "    </tr>\n",
       "    <tr>\n",
       "      <th>3</th>\n",
       "      <td>P</td>\n",
       "      <td>NaN</td>\n",
       "      <td>80</td>\n",
       "    </tr>\n",
       "    <tr>\n",
       "      <th>4</th>\n",
       "      <td>P</td>\n",
       "      <td>NaN</td>\n",
       "      <td>79</td>\n",
       "    </tr>\n",
       "    <tr>\n",
       "      <th>5</th>\n",
       "      <td>A</td>\n",
       "      <td>NaN</td>\n",
       "      <td>97</td>\n",
       "    </tr>\n",
       "    <tr>\n",
       "      <th>6</th>\n",
       "      <td>P</td>\n",
       "      <td>NaN</td>\n",
       "      <td>75</td>\n",
       "    </tr>\n",
       "    <tr>\n",
       "      <th>7</th>\n",
       "      <td>P</td>\n",
       "      <td>NaN</td>\n",
       "      <td>87</td>\n",
       "    </tr>\n",
       "    <tr>\n",
       "      <th>8</th>\n",
       "      <td>P</td>\n",
       "      <td>NaN</td>\n",
       "      <td>98</td>\n",
       "    </tr>\n",
       "    <tr>\n",
       "      <th>9</th>\n",
       "      <td>P</td>\n",
       "      <td>NaN</td>\n",
       "      <td>76</td>\n",
       "    </tr>\n",
       "    <tr>\n",
       "      <th>10</th>\n",
       "      <td>P</td>\n",
       "      <td>NaN</td>\n",
       "      <td>87</td>\n",
       "    </tr>\n",
       "    <tr>\n",
       "      <th>11</th>\n",
       "      <td>P</td>\n",
       "      <td>NaN</td>\n",
       "      <td>79</td>\n",
       "    </tr>\n",
       "    <tr>\n",
       "      <th>12</th>\n",
       "      <td>P</td>\n",
       "      <td>NaN</td>\n",
       "      <td>77</td>\n",
       "    </tr>\n",
       "    <tr>\n",
       "      <th>13</th>\n",
       "      <td>P</td>\n",
       "      <td>NaN</td>\n",
       "      <td>98</td>\n",
       "    </tr>\n",
       "    <tr>\n",
       "      <th>14</th>\n",
       "      <td>P</td>\n",
       "      <td>NaN</td>\n",
       "      <td>83</td>\n",
       "    </tr>\n",
       "    <tr>\n",
       "      <th>15</th>\n",
       "      <td>NaN</td>\n",
       "      <td>NaN</td>\n",
       "      <td>82</td>\n",
       "    </tr>\n",
       "    <tr>\n",
       "      <th>16</th>\n",
       "      <td>NaN</td>\n",
       "      <td>NaN</td>\n",
       "      <td>92</td>\n",
       "    </tr>\n",
       "    <tr>\n",
       "      <th>17</th>\n",
       "      <td>NaN</td>\n",
       "      <td>NaN</td>\n",
       "      <td>80</td>\n",
       "    </tr>\n",
       "    <tr>\n",
       "      <th>18</th>\n",
       "      <td>NaN</td>\n",
       "      <td>NaN</td>\n",
       "      <td>92</td>\n",
       "    </tr>\n",
       "    <tr>\n",
       "      <th>19</th>\n",
       "      <td>NaN</td>\n",
       "      <td>NaN</td>\n",
       "      <td>84</td>\n",
       "    </tr>\n",
       "    <tr>\n",
       "      <th>20</th>\n",
       "      <td>NaN</td>\n",
       "      <td>NaN</td>\n",
       "      <td>83</td>\n",
       "    </tr>\n",
       "    <tr>\n",
       "      <th>21</th>\n",
       "      <td>NaN</td>\n",
       "      <td>NaN</td>\n",
       "      <td>82</td>\n",
       "    </tr>\n",
       "    <tr>\n",
       "      <th>22</th>\n",
       "      <td>NaN</td>\n",
       "      <td>NaN</td>\n",
       "      <td>75</td>\n",
       "    </tr>\n",
       "    <tr>\n",
       "      <th>23</th>\n",
       "      <td>NaN</td>\n",
       "      <td>NaN</td>\n",
       "      <td>76</td>\n",
       "    </tr>\n",
       "    <tr>\n",
       "      <th>24</th>\n",
       "      <td>NaN</td>\n",
       "      <td>NaN</td>\n",
       "      <td>81</td>\n",
       "    </tr>\n",
       "    <tr>\n",
       "      <th>25</th>\n",
       "      <td>NaN</td>\n",
       "      <td>NaN</td>\n",
       "      <td>75</td>\n",
       "    </tr>\n",
       "    <tr>\n",
       "      <th>26</th>\n",
       "      <td>NaN</td>\n",
       "      <td>NaN</td>\n",
       "      <td>94</td>\n",
       "    </tr>\n",
       "    <tr>\n",
       "      <th>27</th>\n",
       "      <td>NaN</td>\n",
       "      <td>NaN</td>\n",
       "      <td>93</td>\n",
       "    </tr>\n",
       "    <tr>\n",
       "      <th>28</th>\n",
       "      <td>NaN</td>\n",
       "      <td>NaN</td>\n",
       "      <td>85</td>\n",
       "    </tr>\n",
       "    <tr>\n",
       "      <th>29</th>\n",
       "      <td>NaN</td>\n",
       "      <td>NaN</td>\n",
       "      <td>84</td>\n",
       "    </tr>\n",
       "  </tbody>\n",
       "</table>\n",
       "</div>"
      ],
      "text/plain": [
       "   Attendance  Projects  Assignments\n",
       "0           P      90.0           81\n",
       "1           P      92.0           90\n",
       "2           P      89.0          100\n",
       "3           P       NaN           80\n",
       "4           P       NaN           79\n",
       "5           A       NaN           97\n",
       "6           P       NaN           75\n",
       "7           P       NaN           87\n",
       "8           P       NaN           98\n",
       "9           P       NaN           76\n",
       "10          P       NaN           87\n",
       "11          P       NaN           79\n",
       "12          P       NaN           77\n",
       "13          P       NaN           98\n",
       "14          P       NaN           83\n",
       "15        NaN       NaN           82\n",
       "16        NaN       NaN           92\n",
       "17        NaN       NaN           80\n",
       "18        NaN       NaN           92\n",
       "19        NaN       NaN           84\n",
       "20        NaN       NaN           83\n",
       "21        NaN       NaN           82\n",
       "22        NaN       NaN           75\n",
       "23        NaN       NaN           76\n",
       "24        NaN       NaN           81\n",
       "25        NaN       NaN           75\n",
       "26        NaN       NaN           94\n",
       "27        NaN       NaN           93\n",
       "28        NaN       NaN           85\n",
       "29        NaN       NaN           84"
      ]
     },
     "execution_count": 18,
     "metadata": {},
     "output_type": "execute_result"
    }
   ],
   "source": [
    "df=pd.read_excel('grades.xlsx')    #read in excel file of sample student's grades as a dataframe\n",
    "df                                 #show the dataframe"
   ]
  },
  {
   "cell_type": "code",
   "execution_count": 19,
   "metadata": {},
   "outputs": [
    {
     "data": {
      "text/plain": [
       "0.09333333333333334"
      ]
     },
     "execution_count": 19,
     "metadata": {},
     "output_type": "execute_result"
    }
   ],
   "source": [
    "att_pts=(df['Attendance'].loc[df['Attendance']=='P'].count())/15*0.1    #Count the number of times 'P' is found in the \n",
    "att_pts                                                                 #'Attendance' column, divide by 15 to see the percent\n",
    "                                                                        #of classes present for, multiply by 10% to get points \n",
    "                                                                        #awarded to final grade based on attendance.\n"
   ]
  },
  {
   "cell_type": "code",
   "execution_count": 23,
   "metadata": {},
   "outputs": [
    {
     "data": {
      "text/plain": [
       "54.199999999999996"
      ]
     },
     "execution_count": 23,
     "metadata": {},
     "output_type": "execute_result"
    }
   ],
   "source": [
    "proj_pts=(df['Projects'].sum())/3*0.6                  #Sum up the entries in the 'Projects' column, divide by 3 to get\n",
    "proj_pts                                               #the average grade for the projects, multiply by 60% to get \n",
    "                                                       #points awarded to final grade based on projects."
   ]
  },
  {
   "cell_type": "code",
   "execution_count": 26,
   "metadata": {},
   "outputs": [
    {
     "data": {
      "text/plain": [
       "26.189999999999998"
      ]
     },
     "execution_count": 26,
     "metadata": {},
     "output_type": "execute_result"
    }
   ],
   "source": [
    "assign_pts=(df['Assignments'].sample(10).sum())/10*0.3   #Sum up a random sampling of 10 scores from the 'Assignments'  \n",
    "assign_pts                                               #column, divide by 10 to get the average, multiply by 30% \n",
    "                                                         #to get points awarded to the final grade based on assignments.        "
   ]
  },
  {
   "cell_type": "code",
   "execution_count": 25,
   "metadata": {},
   "outputs": [
    {
     "name": "stdout",
     "output_type": "stream",
     "text": [
      "Student's grade is a C+\n"
     ]
    }
   ],
   "source": [
    "overall_avg=att_pts+proj_pts+assign_pts                #Sum up the points awarded from each grade category to get the \n",
    "                                                       #student's overall average in points out of 100.\n",
    "if overall_avg >= 97:\n",
    "    print(\"Student's grade is an A\")                   #Decide on the letter grade awarded to the student based on \n",
    "elif overall_avg>= 90 and overall_avg <= 96.99:        #UMBC scale as outlined in the Data 601 syllabus\n",
    "    print(\"Student's grade is an A-\")\n",
    "elif overall_avg>= 87 and overall_avg <= 89.99:\n",
    "    print(\"Student's grade is a B+\")\n",
    "elif overall_avg>= 84 and overall_avg <= 86.99:\n",
    "    print(\"Student's grade is a B\")\n",
    "elif overall_avg>= 80 and overall_avg <= 83.99:\n",
    "    print(\"Student's grade is a B-\")\n",
    "elif overall_avg>= 77 and overall_avg <= 79.99:\n",
    "    print(\"Student's grade is a C+\")\n",
    "elif overall_avg>= 74 and overall_avg <= 76.99:\n",
    "    print(\"Student's grade is a C\")\n",
    "elif overall_avg>= 70 and overall_avg <= 73.99:\n",
    "    print(\"Student's grade is a C-\")\n",
    "elif overall_avg>= 60 and overall_avg <= 69.99:\n",
    "    print(\"Student's grade is a D\")\n",
    "else:\n",
    "    print(\"Student's grade is an F\")                   #Print out final letter grade"
   ]
  },
  {
   "cell_type": "code",
   "execution_count": null,
   "metadata": {},
   "outputs": [],
   "source": []
  }
 ],
 "metadata": {
  "kernelspec": {
   "display_name": "Python 3",
   "language": "python",
   "name": "python3"
  },
  "language_info": {
   "codemirror_mode": {
    "name": "ipython",
    "version": 3
   },
   "file_extension": ".py",
   "mimetype": "text/x-python",
   "name": "python",
   "nbconvert_exporter": "python",
   "pygments_lexer": "ipython3",
   "version": "3.8.5"
  }
 },
 "nbformat": 4,
 "nbformat_minor": 4
}
