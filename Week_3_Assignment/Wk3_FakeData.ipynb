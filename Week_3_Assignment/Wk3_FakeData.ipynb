{
 "cells": [
  {
   "cell_type": "markdown",
   "metadata": {},
   "source": [
    "## Goal:  generate a file of fake data; the number of entities determined by a user"
   ]
  },
  {
   "cell_type": "markdown",
   "metadata": {},
   "source": [
    "### Step 1:  Import libraries"
   ]
  },
  {
   "cell_type": "code",
   "execution_count": 1,
   "metadata": {},
   "outputs": [],
   "source": [
    "import random\n",
    "import pandas as pd"
   ]
  },
  {
   "cell_type": "markdown",
   "metadata": {},
   "source": [
    "### Step 2:  Make the fake data"
   ]
  },
  {
   "cell_type": "markdown",
   "metadata": {},
   "source": [
    "* For names, I downloaded the national data text file of popular baby names for 2019 from the SSA website:  https://www.ssa.gov/oact/babynames/limits.html"
   ]
  },
  {
   "cell_type": "code",
   "execution_count": 2,
   "metadata": {},
   "outputs": [],
   "source": [
    "namesdf=pd.read_csv('yob2019.txt',header=None)  # read in the txt file to a dataframe\n",
    "names = namesdf[0].to_list()                    # change the first column (which is where the names are stored) to a list\n",
    "\n",
    "\n"
   ]
  },
  {
   "cell_type": "markdown",
   "metadata": {},
   "source": [
    "* For emails, I generated 100 emails using the website https://www.generatedata.com/ and made a text file"
   ]
  },
  {
   "cell_type": "code",
   "execution_count": 3,
   "metadata": {},
   "outputs": [],
   "source": [
    "emailsdf=pd.read_csv('emails.txt',header=None)   # read in the txt file to a dataframe\n",
    "emails=emailsdf[0].tolist()                      # change the first column to a list\n"
   ]
  },
  {
   "cell_type": "markdown",
   "metadata": {},
   "source": [
    "* For phone numbers, I generated 100 phone numbers using the website https://www.generatedata.com/ and made a text file"
   ]
  },
  {
   "cell_type": "code",
   "execution_count": 4,
   "metadata": {},
   "outputs": [],
   "source": [
    "phonesdf=pd.read_csv('phones.txt',header=None)   # read in the txt file to a dataframe\n",
    "phones=phonesdf[0].tolist()                      # change the first column to a list\n"
   ]
  },
  {
   "cell_type": "markdown",
   "metadata": {},
   "source": [
    "*  For street addresses, I generated 100 street addresses using the website https://www.generatedata.com/ and made a text file"
   ]
  },
  {
   "cell_type": "code",
   "execution_count": 5,
   "metadata": {},
   "outputs": [],
   "source": [
    "addressesdf=pd.read_csv('addresses.txt',header=None)   # read in the txt file to a dataframe\n",
    "addresses=addressesdf[0].tolist()                      # change the first column to a list"
   ]
  },
  {
   "cell_type": "markdown",
   "metadata": {},
   "source": [
    "*  For cities, I generated 100 cities using the website https://www.generatedata.com/ and made a text file"
   ]
  },
  {
   "cell_type": "code",
   "execution_count": 6,
   "metadata": {},
   "outputs": [],
   "source": [
    "citiesdf=pd.read_csv('cities.txt',header=None)   # read in the txt file to a dataframe\n",
    "cities=citiesdf[0].tolist()                      # change the first column to a list"
   ]
  },
  {
   "cell_type": "markdown",
   "metadata": {},
   "source": [
    "*  For states, I found a csv file that included states at the website https://worldpopulationreview.com/states/state-abbreviations which I downloaded"
   ]
  },
  {
   "cell_type": "code",
   "execution_count": 7,
   "metadata": {},
   "outputs": [],
   "source": [
    "statesdf=pd.read_csv('csvData.csv',header=None)      # read in the csv file to a dataframe\n",
    "states=statesdf[2][1:].tolist()                      # change the third column to a list\n"
   ]
  },
  {
   "cell_type": "markdown",
   "metadata": {},
   "source": [
    "*  For zip codes, I generated 100 zip codes using the website https://www.generatedata.com/ and made a text file"
   ]
  },
  {
   "cell_type": "code",
   "execution_count": 8,
   "metadata": {},
   "outputs": [],
   "source": [
    "zipsdf=pd.read_csv('zips.txt',header=None)   # read in the txt file to a dataframe\n",
    "zips=zipsdf[0].tolist()                      # change the first column to a list\n"
   ]
  },
  {
   "cell_type": "markdown",
   "metadata": {},
   "source": [
    "* For number of kids, number of speeding tickets, and whether the person rents or owns their home, I just created reasonable lists"
   ]
  },
  {
   "cell_type": "code",
   "execution_count": 9,
   "metadata": {},
   "outputs": [],
   "source": [
    "kids=[0,1,2,3,4,5,6]                         # I assumed most people have between 0 and 6 kids\n",
    "speed_tx=[0,1,2,3,4]                         # I assumed most people get between 0 and 4 speeding tix per year\n",
    "home=['rent','own']                          # Two options for home situation\n"
   ]
  },
  {
   "cell_type": "markdown",
   "metadata": {},
   "source": [
    "*  For birth year, I created a list from the year 1920 to 2020"
   ]
  },
  {
   "cell_type": "code",
   "execution_count": 10,
   "metadata": {},
   "outputs": [],
   "source": [
    "year=[]                                      # open a list\n",
    "for i in range(1920,2021):                   # for all the integers between 1920 and 2020, add the integer to the list\n",
    "    year.append(i)\n"
   ]
  },
  {
   "cell_type": "markdown",
   "metadata": {},
   "source": [
    "*  For salary, I created a list from \\\\$15,000 to \\\\$250,000, with a step of \\\\$5000"
   ]
  },
  {
   "cell_type": "code",
   "execution_count": 11,
   "metadata": {},
   "outputs": [],
   "source": [
    "salary=[]                                    # open a list\n",
    "for i in range(15000,255000,5000):           # add all integers starting at 15000, increasing by 5000, until 250000\n",
    "    salary.append(i)                         # to the list\n"
   ]
  },
  {
   "cell_type": "markdown",
   "metadata": {},
   "source": [
    "### Step 3:  Write the functions for choosing random entities from these lists"
   ]
  },
  {
   "cell_type": "markdown",
   "metadata": {},
   "source": [
    "*  Names"
   ]
  },
  {
   "cell_type": "code",
   "execution_count": 12,
   "metadata": {},
   "outputs": [],
   "source": [
    "def fake_names(number):                              # define a function that takes the number of entities the user wants\n",
    "    names_list=[]                                    # open a list\n",
    "    for i in range(number):                          # for all the entities the user wants\n",
    "        names_list.append(random.choice(names))      # chose a random name from names and add it to the list\n",
    "    return names_list                                # return the list\n"
   ]
  },
  {
   "cell_type": "code",
   "execution_count": 13,
   "metadata": {},
   "outputs": [
    {
     "data": {
      "text/plain": [
       "['Kaleab',\n",
       " 'Trixie',\n",
       " 'Runa',\n",
       " 'Brylei',\n",
       " 'Brexlyn',\n",
       " 'Mazin',\n",
       " 'Korie',\n",
       " 'Aivan',\n",
       " 'Semaje',\n",
       " 'Aero']"
      ]
     },
     "execution_count": 13,
     "metadata": {},
     "output_type": "execute_result"
    }
   ],
   "source": [
    "fake_names(10)                                       # test function"
   ]
  },
  {
   "cell_type": "markdown",
   "metadata": {},
   "source": [
    "* Emails"
   ]
  },
  {
   "cell_type": "code",
   "execution_count": 14,
   "metadata": {},
   "outputs": [],
   "source": [
    "def fake_emails(number):                            # define a function that takes the number of entities the user wants\n",
    "    emails_list=[]                                  # open a list\n",
    "    for i in range(number):                         # for all the entities the user wants\n",
    "        emails_list.append(random.choice(emails))   # chose a random email from emails and add it to the list\n",
    "    return emails_list                              # return the list"
   ]
  },
  {
   "cell_type": "code",
   "execution_count": 15,
   "metadata": {},
   "outputs": [
    {
     "data": {
      "text/plain": [
       "['sapien.Nunc@atnisiCum.net',\n",
       " 'pede@velfaucibusid.ca',\n",
       " 'est.vitae@ametlorem.ca',\n",
       " 'urna.suscipit@dignissimtempor.co.uk',\n",
       " 'luctus@nisimagnased.org',\n",
       " 'est.arcu@ultrices.net',\n",
       " 'at.velit.Pellentesque@amet.edu',\n",
       " 'urna.suscipit@dignissimtempor.co.uk',\n",
       " 'vitae.odio@urna.edu',\n",
       " 'vitae.sodales@Morbinon.org']"
      ]
     },
     "execution_count": 15,
     "metadata": {},
     "output_type": "execute_result"
    }
   ],
   "source": [
    "fake_emails(10)                                     # test function"
   ]
  },
  {
   "cell_type": "markdown",
   "metadata": {},
   "source": [
    "*  Phone numbers"
   ]
  },
  {
   "cell_type": "code",
   "execution_count": 16,
   "metadata": {},
   "outputs": [],
   "source": [
    "def fake_phones(number):                           # define a function that takes the number of entities the user wants\n",
    "    phones_list=[]                                 # open a list\n",
    "    for i in range(number):                        # for all the entities the user wants\n",
    "        phones_list.append(random.choice(phones))  # chose a random phone number from phones and add it to the list\n",
    "    return phones_list                             # return the list"
   ]
  },
  {
   "cell_type": "code",
   "execution_count": 17,
   "metadata": {},
   "outputs": [
    {
     "data": {
      "text/plain": [
       "['(653) 487-9774',\n",
       " '(995) 856-8904',\n",
       " '(261) 161-5981',\n",
       " '(999) 875-4388',\n",
       " '(310) 783-2786',\n",
       " '(609) 149-6420',\n",
       " '(472) 815-6783',\n",
       " '(840) 679-0058',\n",
       " '(780) 202-3690',\n",
       " '(220) 692-1919']"
      ]
     },
     "execution_count": 17,
     "metadata": {},
     "output_type": "execute_result"
    }
   ],
   "source": [
    "fake_phones(10)                                    # test the function"
   ]
  },
  {
   "cell_type": "markdown",
   "metadata": {},
   "source": [
    "*  Street address, city, state, zip"
   ]
  },
  {
   "cell_type": "code",
   "execution_count": 18,
   "metadata": {},
   "outputs": [],
   "source": [
    "def fake_address(number):\n",
    "    address_list=[]\n",
    "    for i in range(number):\n",
    "        address_list.append(random.choice(addresses)) # chose a random street address from addresses and add it to the list\n",
    "    return address_list"
   ]
  },
  {
   "cell_type": "code",
   "execution_count": 19,
   "metadata": {},
   "outputs": [
    {
     "data": {
      "text/plain": [
       "['Ap #293-1008 Ac Street',\n",
       " '8898 Laoreet Rd.',\n",
       " '430-9502 Feugiat St.',\n",
       " '619-3165 Quisque Avenue',\n",
       " '3810 Integer Rd.',\n",
       " '137-8799 Urna. Ave',\n",
       " '8073 Elementum',\n",
       " '8898 Laoreet Rd.',\n",
       " '8300 Amet',\n",
       " 'P.O. Box 847']"
      ]
     },
     "execution_count": 19,
     "metadata": {},
     "output_type": "execute_result"
    }
   ],
   "source": [
    "fake_address(10)                                      # test"
   ]
  },
  {
   "cell_type": "code",
   "execution_count": 20,
   "metadata": {},
   "outputs": [],
   "source": [
    "def fake_city(number):\n",
    "    city_list=[]\n",
    "    for i in range(number):\n",
    "        city_list.append(random.choice(cities))  # chose a random city from cities and add it to the list\n",
    "    return city_list"
   ]
  },
  {
   "cell_type": "code",
   "execution_count": 21,
   "metadata": {},
   "outputs": [
    {
     "data": {
      "text/plain": [
       "['Wayaux',\n",
       " 'Linkebeek',\n",
       " 'Wansin',\n",
       " 'Beypazarı',\n",
       " 'San Javier',\n",
       " 'Nanded',\n",
       " 'Juneau',\n",
       " 'Bertiolo',\n",
       " \"Lutsel K'e\",\n",
       " 'Paço do Lumiar']"
      ]
     },
     "execution_count": 21,
     "metadata": {},
     "output_type": "execute_result"
    }
   ],
   "source": [
    "fake_city(10)                                    # test"
   ]
  },
  {
   "cell_type": "code",
   "execution_count": 22,
   "metadata": {},
   "outputs": [],
   "source": [
    "def fake_state(number):\n",
    "    state_list=[]\n",
    "    for i in range(number):\n",
    "        state_list.append(random.choice(states))  # chose a random state from states and add it to the list\n",
    "    return state_list"
   ]
  },
  {
   "cell_type": "code",
   "execution_count": 23,
   "metadata": {},
   "outputs": [
    {
     "data": {
      "text/plain": [
       "['OR', 'MO', 'TX', 'OR', 'IN', 'NM', 'NM', 'HI', 'ND', 'ND']"
      ]
     },
     "execution_count": 23,
     "metadata": {},
     "output_type": "execute_result"
    }
   ],
   "source": [
    "fake_state(10)                                    # test"
   ]
  },
  {
   "cell_type": "code",
   "execution_count": 24,
   "metadata": {},
   "outputs": [],
   "source": [
    "def fake_zips(number):\n",
    "    zips_list=[]\n",
    "    for i in range(number):\n",
    "        zips_list.append(random.choice(zips))     # chose a random zip code from zips and add it to the list\n",
    "    return zips_list"
   ]
  },
  {
   "cell_type": "code",
   "execution_count": 25,
   "metadata": {},
   "outputs": [
    {
     "data": {
      "text/plain": [
       "[15874, 75905, 64979, 18275, 66129, 94121, 15874, 75370, 69615, 62740]"
      ]
     },
     "execution_count": 25,
     "metadata": {},
     "output_type": "execute_result"
    }
   ],
   "source": [
    "fake_zips(10)                                     # test"
   ]
  },
  {
   "cell_type": "markdown",
   "metadata": {},
   "source": [
    "* Number of kids"
   ]
  },
  {
   "cell_type": "code",
   "execution_count": 26,
   "metadata": {},
   "outputs": [],
   "source": [
    "def fake_kids(number):                         # define a function that takes the number of entities the user wants\n",
    "    kids_list=[]                               # open a list\n",
    "    for i in range(number):                    # for all the entities the user wants\n",
    "        kids_list.append(random.choice(kids))  # chose a random number of kids from kids and add it to the list\n",
    "    return kids_list                           # return the list"
   ]
  },
  {
   "cell_type": "code",
   "execution_count": 27,
   "metadata": {},
   "outputs": [
    {
     "data": {
      "text/plain": [
       "[5, 5, 3, 1, 5, 2, 5, 5, 6, 5]"
      ]
     },
     "execution_count": 27,
     "metadata": {},
     "output_type": "execute_result"
    }
   ],
   "source": [
    "fake_kids(10)                                  # test"
   ]
  },
  {
   "cell_type": "markdown",
   "metadata": {},
   "source": [
    "* Number of speeding tickets in a year"
   ]
  },
  {
   "cell_type": "code",
   "execution_count": 28,
   "metadata": {},
   "outputs": [],
   "source": [
    "def fake_speed_tx(number):                              # define a function that takes the number of entities the user wants\n",
    "    speed_tx_list=[]                                    # open a list\n",
    "    for i in range(number):                             # for all the entities the user wants\n",
    "        speed_tx_list.append(random.choice(speed_tx))   # chose a random number of tickets from speed_tx and add it to the list\n",
    "    return speed_tx_list                                # return the list"
   ]
  },
  {
   "cell_type": "code",
   "execution_count": 29,
   "metadata": {},
   "outputs": [
    {
     "data": {
      "text/plain": [
       "[2, 2, 4, 3, 1, 4, 1, 0, 1, 0]"
      ]
     },
     "execution_count": 29,
     "metadata": {},
     "output_type": "execute_result"
    }
   ],
   "source": [
    "fake_speed_tx(10)                                       # test"
   ]
  },
  {
   "cell_type": "markdown",
   "metadata": {},
   "source": [
    "* Home status"
   ]
  },
  {
   "cell_type": "code",
   "execution_count": 30,
   "metadata": {},
   "outputs": [],
   "source": [
    "def fake_home(number):                                # define a function that takes the number of entities the user wants\n",
    "    home_list=[]                                      # open a list\n",
    "    for i in range(number):                           # for all the entities the user wants\n",
    "        home_list.append(random.choice(home))         # chose a home status from home and add it to the list\n",
    "    return home_list                                  # retun the list"
   ]
  },
  {
   "cell_type": "code",
   "execution_count": 31,
   "metadata": {},
   "outputs": [
    {
     "data": {
      "text/plain": [
       "['own', 'own', 'own', 'rent', 'rent', 'rent', 'own', 'own', 'own', 'own']"
      ]
     },
     "execution_count": 31,
     "metadata": {},
     "output_type": "execute_result"
    }
   ],
   "source": [
    "fake_home(10)                                         # test"
   ]
  },
  {
   "cell_type": "markdown",
   "metadata": {},
   "source": [
    "* Birth year"
   ]
  },
  {
   "cell_type": "code",
   "execution_count": 32,
   "metadata": {},
   "outputs": [],
   "source": [
    "def fake_year(number):                            # define a function that takes the number of entities the user wants\n",
    "    year_list=[]                                  # open a list\n",
    "    for i in range(number):                       # for all the entities the user wants\n",
    "        year_list.append(random.choice(year))     # chose a birth year from year and add it to the list\n",
    "    return year_list                              # return the list"
   ]
  },
  {
   "cell_type": "code",
   "execution_count": 33,
   "metadata": {},
   "outputs": [
    {
     "data": {
      "text/plain": [
       "[1929, 1966, 1933, 1925, 1974, 2009, 1963, 1975, 1966, 1957]"
      ]
     },
     "execution_count": 33,
     "metadata": {},
     "output_type": "execute_result"
    }
   ],
   "source": [
    "fake_year(10)                                     # test"
   ]
  },
  {
   "cell_type": "markdown",
   "metadata": {},
   "source": [
    "*  Annual salary"
   ]
  },
  {
   "cell_type": "code",
   "execution_count": 34,
   "metadata": {},
   "outputs": [],
   "source": [
    "def fake_salary(number):                            # define a function that takes the number of entities the user wants\n",
    "    salary_list=[]                                  # open a list\n",
    "    for i in range(number):                         # for all the entities the user wants\n",
    "        salary_list.append(random.choice(salary))   # chose a salary from salary and add it to the list\n",
    "    return salary_list                              # return the list"
   ]
  },
  {
   "cell_type": "code",
   "execution_count": 35,
   "metadata": {},
   "outputs": [
    {
     "data": {
      "text/plain": [
       "[210000, 235000, 180000, 95000, 100000, 50000, 185000, 200000, 25000, 25000]"
      ]
     },
     "execution_count": 35,
     "metadata": {},
     "output_type": "execute_result"
    }
   ],
   "source": [
    "fake_salary(10)                                     # test"
   ]
  },
  {
   "cell_type": "markdown",
   "metadata": {},
   "source": [
    "### Step 4:  Ask the user the number of entities they'd like and export generated data to a csv file"
   ]
  },
  {
   "cell_type": "code",
   "execution_count": 36,
   "metadata": {},
   "outputs": [
    {
     "name": "stdout",
     "output_type": "stream",
     "text": [
      "How many rows would you like:\n",
      "15\n"
     ]
    }
   ],
   "source": [
    "print('How many rows would you like:')\n",
    "x=input()                                      # take as input the number of entities the user would like\n",
    "\n",
    "a=fake_names(int(x))                           # change x to an integer and feed it into all functions \n",
    "b=fake_year(int(x))\n",
    "c=fake_emails(int(x))\n",
    "d=fake_phones(int(x))\n",
    "e=fake_address(int(x))\n",
    "f=fake_city(int(x))\n",
    "g=fake_state(int(x))\n",
    "h=fake_zips(int(x))\n",
    "i=fake_kids(int(x))\n",
    "j=fake_speed_tx(int(x))\n",
    "k=fake_home(int(x))\n",
    "l=fake_salary(int(x))\n",
    "\n",
    "df=pd.DataFrame()                             # create a data frame \n",
    "df['Name']=a                                  # add the lists that comes back from the functions to the data frame\n",
    "df['Birth Year']=b\n",
    "df['Email']=c\n",
    "df['Phone Number']=d\n",
    "df['Street Address']=e\n",
    "df['City']=f\n",
    "df['State']=g\n",
    "df['Zip Code']=h\n",
    "df['Number of Kids']=i\n",
    "df['Number of Speeding Tickets']=j\n",
    "df['Housing']=k\n",
    "df['Salary']=l\n",
    "df.to_csv('fake_data.csv', index=False)       # export the data fram to a csv file"
   ]
  },
  {
   "cell_type": "code",
   "execution_count": null,
   "metadata": {},
   "outputs": [],
   "source": []
  }
 ],
 "metadata": {
  "kernelspec": {
   "display_name": "Python 3",
   "language": "python",
   "name": "python3"
  },
  "language_info": {
   "codemirror_mode": {
    "name": "ipython",
    "version": 3
   },
   "file_extension": ".py",
   "mimetype": "text/x-python",
   "name": "python",
   "nbconvert_exporter": "python",
   "pygments_lexer": "ipython3",
   "version": "3.8.5"
  }
 },
 "nbformat": 4,
 "nbformat_minor": 4
}
